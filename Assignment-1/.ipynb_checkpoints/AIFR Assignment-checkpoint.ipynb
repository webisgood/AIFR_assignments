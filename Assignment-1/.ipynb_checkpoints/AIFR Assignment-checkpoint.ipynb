{
 "cells": [
  {
   "cell_type": "code",
   "execution_count": 3,
   "id": "a3d21354",
   "metadata": {},
   "outputs": [],
   "source": [
    "# Import all necessary libraries\n",
    "from numpy import inf"
   ]
  },
  {
   "cell_type": "code",
   "execution_count": 4,
   "id": "70052483",
   "metadata": {},
   "outputs": [],
   "source": [
    "bphc_map = {'A0':{'A1':0.0485,'A2':0.026,'A3':0.046},'A1':{'A4':0.2464},'A2':{'A5':0.4993},'A3':{'A6':0.0939},\n",
    "            'A4':{'A7':0.1777},'A5':{'A8':0.0351},'A6':{'A9':0.056,'A10':0.175},'A7':{'A11':0.176},\n",
    "            'A8':{'A12':0.1728,'A13':0.0551},'A10':{'A14':0.0138,'A15':0.0184},'A11':{'A16':0.1375,'A17':0.2513},\n",
    "            'A12':{'A18':0.0213,'A19':0.0214},'A13':{'A20':0.1711,'A21':0.0369},'A14':{'A22':0.335},\n",
    "            'A15':{'A22':0.0192,'A18':0.2609},'A17':{'A23':0.1365,'A24':0.0739},'A18':{'A25':0.0957},\n",
    "            'A19':{'A26':0.0972},'A20':{'A19':0.0428,'A27':0.0133},'A21':{'A28':0.1755,'A29':0.0617},\n",
    "            'A22':{'A30':0.0723},'A23':{'A31':0.1291,'A32':0.0789},'A24':{'A33':0.229},'A25':{'A34':0.0161},\n",
    "            'A26':{'A34':0.0203},'A27':{'A28':0.0537,'A35':0.0947},'A28':{'A27':0.0537,'A36':0.095,'A37':0.0566},\n",
    "            'A29':{'A37':0.17},'A30':{'A38':0.0225,'A39':0.0133},'A32':{'A24':0.1406},'A33':{'A40':0.0363},\n",
    "            'A34':{'A41':0.171,'A25':0.0161},'A35':{'A26':0.0596},'A36':{'A35':0.0523},\n",
    "            'A37':{'A42':0.0987,'A43':0.0522},'A38':{'A39':0.0207,'A44':0.0942},'A39':{'A38':0.0207,'A45':0.105},\n",
    "            'A40':{'A46':0.1318},'A41':{'A46':0.0769,'A47':0.0331},'A42':{'A36':0.0632,'A48':0.147,'A49':0.0459},\n",
    "            'A43':{'A37':0.0516,'A49':0.0963},'A44':{'A32':0.0813,'A38':0.0942},'A45':{'A50':0.0731,'A51':0.0399},\n",
    "            'A46':{'A52':0.3794},'A49':{'A42':0.0459},'A50':{'A53':0.1081},'A51':{'A25':0.1168,'A50':0.0697},\n",
    "            'A53':{}}"
   ]
  },
  {
   "attachments": {},
   "cell_type": "markdown",
   "id": "bec4263f",
   "metadata": {},
   "source": [
    "![](bphc_map.jpg)"
   ]
  },
  {
   "cell_type": "code",
   "execution_count": 5,
   "id": "af2eb7f5",
   "metadata": {},
   "outputs": [
    {
     "ename": "SyntaxError",
     "evalue": "invalid syntax (3630784866.py, line 8)",
     "output_type": "error",
     "traceback": [
      "\u001b[0;36m  Cell \u001b[0;32mIn [5], line 8\u001b[0;36m\u001b[0m\n\u001b[0;31m    'A10':inf,'A11':inf,'A12':,inf'A13':inf,'A14':inf,'A15':inf,'A16':inf,'A17':inf,'A18':inf,\u001b[0m\n\u001b[0m                              ^\u001b[0m\n\u001b[0;31mSyntaxError\u001b[0m\u001b[0;31m:\u001b[0m invalid syntax\n"
     ]
    }
   ],
   "source": [
    "settled_nodes = ['A0']\n",
    "unsettled_nodes = ['A1','A2','A3','A4','A5','A6','A7','A8','A9','A10','A11','A12','A13','A14','A15','A16','A17',\n",
    "                   'A18','A19','A20','A21','A22','A23','A24','A25','A26','A27','A28','A29','A30','A31','A32','A33',\n",
    "                   'A34','A35','A36','A37','A38','A39','A40','A41','A42','A43','A44','A45','A46','A47','A48','A49',\n",
    "                   'A50','A51','A52','A53']\n",
    "\n",
    "distances_A0 = {'A0':0,'A1':0.0485,'A2':0.026,'A3':0.046,'A4':inf,'A5':inf,'A6':inf,'A7':inf,'A8':inf,'A9':inf,\n",
    "                'A10':inf,'A11':inf,'A12':,inf'A13':inf,'A14':inf,'A15':inf,'A16':inf,'A17':inf,'A18':inf,\n",
    "                'A19':inf,'A20':inf,'A21':inf,'A22':inf,'A23':inf,'A24':inf,'A25':inf,'A26':inf,'A27':inf,\n",
    "                'A28':inf,'A29':inf,'A30':inf,'A31':inf,'A32':inf,'A33':inf,'A34':inf,'A35':inf,'A36':inf,\n",
    "                'A37':inf,'A38':inf,'A39':inf,'A40':inf,'A41':inf,'A42':inf,'A43':inf,'A44':inf,'A45':inf,\n",
    "                'A46':inf,'A47':inf,'A48':inf,'A49':inf,'A50':inf,'A51':inf,'A52':inf,'A53':inf}"
   ]
  },
  {
   "cell_type": "code",
   "execution_count": null,
   "id": "2c32b473",
   "metadata": {},
   "outputs": [],
   "source": []
  }
 ],
 "metadata": {
  "kernelspec": {
   "display_name": "Python 3 (ipykernel)",
   "language": "python",
   "name": "python3"
  },
  "language_info": {
   "codemirror_mode": {
    "name": "ipython",
    "version": 3
   },
   "file_extension": ".py",
   "mimetype": "text/x-python",
   "name": "python",
   "nbconvert_exporter": "python",
   "pygments_lexer": "ipython3",
   "version": "3.8.10"
  }
 },
 "nbformat": 4,
 "nbformat_minor": 5
}
